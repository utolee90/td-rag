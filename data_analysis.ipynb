{
 "cells": [
  {
   "cell_type": "code",
   "execution_count": 1,
   "id": "a1fec808-fda9-4c7b-8b09-0423262fd678",
   "metadata": {},
   "outputs": [
    {
     "name": "stderr",
     "output_type": "stream",
     "text": [
      "/mnt/nvme02/User/utopiamath/anaconda3/envs/vaiv310/lib/python3.10/site-packages/transformers/utils/hub.py:128: FutureWarning: Using `TRANSFORMERS_CACHE` is deprecated and will be removed in v5 of Transformers. Use `HF_HOME` instead.\n",
      "  warnings.warn(\n"
     ]
    }
   ],
   "source": [
    "# merge_db 데이터 분석\n",
    "\n",
    "from manager import VectorStoreManager\n",
    "\n",
    "import os\n",
    "import logging\n",
    "import faiss\n",
    "import torch\n",
    "from pathlib import Path\n",
    "from langchain_community.vectorstores import FAISS\n",
    "from langchain_community.docstore.in_memory import InMemoryDocstore\n",
    "from langchain_core.documents import Document\n",
    "from typing import Dict, Any\n",
    "from datetime import datetime, timedelta\n",
    "from uuid import uuid4\n",
    "import numpy as np\n",
    "import pickle, json, re\n",
    "from dateutil.parser import parse\n",
    "from utils import DocumentV2, MergedDataV2, SafeUnpickler, create_documents, group_news_data_by_date, join_search_data\n",
    "from transformers import AutoTokenizer, AutoModelForCausalLM\n",
    "from tqdm import tqdm"
   ]
  },
  {
   "cell_type": "code",
   "execution_count": 2,
   "id": "2107ac07-71f2-4d68-bc98-2f5a990bd0ae",
   "metadata": {},
   "outputs": [
    {
     "name": "stderr",
     "output_type": "stream",
     "text": [
      "/tmp/ipykernel_1657114/2329120796.py:9: LangChainDeprecationWarning: The class `HuggingFaceEmbeddings` was deprecated in LangChain 0.2.2 and will be removed in 1.0. An updated version of the class exists in the :class:`~langchain-huggingface package and should be used instead. To use it run `pip install -U :class:`~langchain-huggingface` and import as `from :class:`~langchain_huggingface import HuggingFaceEmbeddings``.\n",
      "  embeddings = HuggingFaceEmbeddings(\n",
      "2025-07-01 08:21:27.019849: I tensorflow/core/util/port.cc:153] oneDNN custom operations are on. You may see slightly different numerical results due to floating-point round-off errors from different computation orders. To turn them off, set the environment variable `TF_ENABLE_ONEDNN_OPTS=0`.\n",
      "2025-07-01 08:21:27.031007: E external/local_xla/xla/stream_executor/cuda/cuda_fft.cc:477] Unable to register cuFFT factory: Attempting to register factory for plugin cuFFT when one has already been registered\n",
      "WARNING: All log messages before absl::InitializeLog() is called are written to STDERR\n",
      "E0000 00:00:1751358087.043389 1657114 cuda_dnn.cc:8310] Unable to register cuDNN factory: Attempting to register factory for plugin cuDNN when one has already been registered\n",
      "E0000 00:00:1751358087.047138 1657114 cuda_blas.cc:1418] Unable to register cuBLAS factory: Attempting to register factory for plugin cuBLAS when one has already been registered\n",
      "2025-07-01 08:21:27.062236: I tensorflow/core/platform/cpu_feature_guard.cc:210] This TensorFlow binary is optimized to use available CPU instructions in performance-critical operations.\n",
      "To enable the following instructions: AVX2 AVX512F AVX512_VNNI AVX512_BF16 FMA, in other operations, rebuild TensorFlow with the appropriate compiler flags.\n"
     ]
    }
   ],
   "source": [
    "# langchain imports \n",
    "from langchain_core.documents import Document\n",
    "from langchain_community.embeddings import HuggingFaceEmbeddings\n",
    "from langchain_community.vectorstores import FAISS\n",
    "from langchain_community.docstore.in_memory import InMemoryDocstore\n",
    "\n",
    "# embedding 지정\n",
    "model_name = \"sentence-transformers/all-mpnet-base-v2\"\n",
    "embeddings = HuggingFaceEmbeddings(\n",
    "    model_name=model_name,\n",
    "    model_kwargs={'device': 'cpu'},\n",
    "    encode_kwargs={'normalize_embeddings': False}\n",
    ")"
   ]
  },
  {
   "cell_type": "code",
   "execution_count": 3,
   "id": "f65fc100-9491-4cdf-8527-7c298961b555",
   "metadata": {},
   "outputs": [],
   "source": [
    "# global manager 지정\n",
    "from pathlib import Path\n",
    "base_dir = Path(\"faiss_indexes\") # 임시 FAISS DB 경로 수정\\\n",
    "global_manager = VectorStoreManager(embeddings, base_dir)"
   ]
  },
  {
   "cell_type": "code",
   "execution_count": 6,
   "id": "dcdccd88-679b-45ab-9548-e98478e3b0c2",
   "metadata": {},
   "outputs": [],
   "source": [
    "# global_manager.merge_date_range 이용해 데이터 병합\n",
    "\n",
    "merged_store = global_manager.merge_date_range(\"20181231\", \"20190101\")"
   ]
  },
  {
   "cell_type": "code",
   "execution_count": 7,
   "id": "b91dada5-2b35-4d50-8a98-3553b98f8be1",
   "metadata": {
    "scrolled": true
   },
   "outputs": [
    {
     "data": {
      "text/plain": [
       "['__bool__',\n",
       " '__class__',\n",
       " '__delattr__',\n",
       " '__dir__',\n",
       " '__doc__',\n",
       " '__eq__',\n",
       " '__format__',\n",
       " '__ge__',\n",
       " '__getattribute__',\n",
       " '__gt__',\n",
       " '__hash__',\n",
       " '__init__',\n",
       " '__init_subclass__',\n",
       " '__le__',\n",
       " '__lt__',\n",
       " '__ne__',\n",
       " '__new__',\n",
       " '__reduce__',\n",
       " '__reduce_ex__',\n",
       " '__repr__',\n",
       " '__setattr__',\n",
       " '__sizeof__',\n",
       " '__str__',\n",
       " '__subclasshook__']"
      ]
     },
     "execution_count": 7,
     "metadata": {},
     "output_type": "execute_result"
    }
   ],
   "source": [
    "dir(merged_store)"
   ]
  },
  {
   "cell_type": "code",
   "execution_count": 9,
   "id": "b660b146-8ff4-4edf-b65c-b7f5102c8334",
   "metadata": {},
   "outputs": [],
   "source": [
    "merged_store"
   ]
  },
  {
   "cell_type": "code",
   "execution_count": 8,
   "id": "39b5ddeb-723e-45b4-a0ce-c89c6b008bdd",
   "metadata": {},
   "outputs": [
    {
     "ename": "AttributeError",
     "evalue": "'NoneType' object has no attribute 'docstore'",
     "output_type": "error",
     "traceback": [
      "\u001b[0;31m---------------------------------------------------------------------------\u001b[0m",
      "\u001b[0;31mAttributeError\u001b[0m                            Traceback (most recent call last)",
      "Cell \u001b[0;32mIn[8], line 2\u001b[0m\n\u001b[1;32m      1\u001b[0m \u001b[38;5;66;03m# 문서 개수\u001b[39;00m\n\u001b[0;32m----> 2\u001b[0m \u001b[38;5;28mprint\u001b[39m(\u001b[38;5;28mlen\u001b[39m(\u001b[43mmerged_store\u001b[49m\u001b[38;5;241;43m.\u001b[39;49m\u001b[43mdocstore\u001b[49m\u001b[38;5;241m.\u001b[39m_dict))  \u001b[38;5;66;03m# 저장된 문서 개수\u001b[39;00m\n",
      "\u001b[0;31mAttributeError\u001b[0m: 'NoneType' object has no attribute 'docstore'"
     ]
    }
   ],
   "source": [
    "# 문서 개수\n",
    "print(len(merged_store.docstore._dict))  # 저장된 문서 개수"
   ]
  },
  {
   "cell_type": "code",
   "execution_count": 14,
   "id": "6e342191-b672-4554-bece-7161f6d78f99",
   "metadata": {
    "scrolled": true
   },
   "outputs": [
    {
     "name": "stdout",
     "output_type": "stream",
     "text": [
      "ID: ac01947a-ba5f-4c57-8104-6f50a2fc2f77\n",
      "Content: Title: Cost of living\n",
      "Contents: compensation packages for corporate executives maintaining a western lifestyle. The survey incorporates easy-to-understand comparative cost of living indices between cities. The survey allows city-to-city comparisons, but for the purpose of this report all cities are compared to a base city of New York City, which has an index set at 100. The survey has been carried out for more than 30 years. The most recent survey was published in March 2017. Singapore remains the most expensive city in the world for the fourth year running, in a rare occurrence where the entire top five most expensive cities were unchanged from\n",
      "------------------------------\n",
      "ID: 0add434b-95f4-4b71-a77f-0f992765d25e\n",
      "Content: Title: City\n",
      "Contents: fifth of the population said to live in shantytowns (favelas, poblaciones callampas, etc.). Batam, Indonesia, Mogadishu, Somalia, Xiamen, China and Niamey, Niger, are considered among the world's fastest-growing cities, with annual growth rates of 5–8%. In general, the more developed countries of the \"Global North\" remain more urbanized than the less developed countries of the \"Global South\"—but the difference continues to shrink because urbanization is happening faster in the latter group. Asia is home to by far the greatest absolute number of city-dwellers: over two billion and counting. The UN predicts an additional 2.5 billion citydwellers (and 300 million fewer\n",
      "------------------------------\n",
      "ID: 6d58fb9c-2f50-467a-8dc9-055ddc1cb007\n",
      "Content: Title: The World Factbook list of developed countries\n",
      "Contents: the countries in its list are The CIA notes that these countries These descriptions are based on 2010 GDP per capita figures. As of 2017, four members of the OECD have a GDP per capita of less than $15,000 in nominal terms (Poland, Hungary, Turkey and Mexico) and, as of 2017, five OPEC countries have a GDP per capita that is higher than $20,000 (Qatar, Kuwait, Bahrain, UAE and Saudi Arabia). The CIA notes that the 31 DCs are as follows: The CIA concludes its definition with the note that this list is This description is based on an old\n",
      "------------------------------\n",
      "ID: 2cf83a4e-37b2-4ea7-b317-beb60e87ec3c\n",
      "Content: Title: Demographics of New York City\n",
      "Contents: City's recent mayor, Michael Bloomberg, is himself one of the nation's richest men. As of 2009 New York has regained the number one spot as the city with most billionaires (55), after losing out to Moscow in 2008. New York has ranked first in population among American cities since the first census in 1790. New York will maintain this position for the foreseeable future, although there are varying forecasts on how much the population will increase. The most realistic population projections from the Department of City Planning anticipate a 1.1 million increase by 2030, bringing the city's population total to\n",
      "------------------------------\n",
      "ID: 3e1354dc-a880-4efc-b32e-2020d9427e89\n",
      "Content: Title: Gini coefficient\n",
      "Contents: make political comparisons between large and small countries or those with different immigration policies (see limitations of Gini coefficient section). The Gini coefficient for the entire world has been estimated by various parties to be between 0.61 and 0.68. The graph shows the values expressed as a percentage in their historical development for a number of countries. According to UNICEF, Latin America and the Caribbean region had the highest net income Gini index in the world at 48.3, on unweighted average basis in 2008. The remaining regional averages were: sub-Saharan Africa (44.2), Asia (40.4), Middle East and North Africa (39.2),\n",
      "------------------------------\n",
      "ID: 39415605-a780-4bad-b7c5-33e5beffda75\n",
      "Content: Title: Diluted disinfectants crisis (Romania)\n",
      "Contents: in France in laboratories the competing ANIOS which found a different recipe than shown and dilution significant, but the information was not at the time. The same disinfectant, Thor, had been identified since 2006 as responsible for infecting newborns in a maternity hospital in Argeș County. The result was a series of criminal complaints on behalf of the manufacturer Farma University, which has since changed its name in Hexi Pharma. On May 6, 2016, around five hundred people protested in Bucharest, amid a severe sub financing of the health system in a country where thousands of Romanian specialists emigrate annually,\n",
      "------------------------------\n",
      "ID: c39c95ac-334a-485c-a6e2-11a217679692\n",
      "Content: Title: Johnson & Johnson\n",
      "Contents: Johnson & Johnson's quick response, including a nationwide recall, was widely praised by public relations experts and the media and was the gold standard for corporate crisis management. On April 30, 2010, McNeil Consumer Healthcare, a subsidiary of Johnson and Johnson, voluntarily recalled 43 over-the-counter children's medicines, including Tylenol, Tylenol Plus, Motrin, Zyrtec and Benadryl. The recall was conducted after a routine inspection at a manufacturing facility in Fort Washington, Pennsylvania, United States revealed that some \"products may not fully meet the required manufacturing specifications\". Affected products may contain a \"higher concentration of active ingredients\" or exhibit other manufacturing defects.\n",
      "------------------------------\n",
      "ID: b285e6ee-eeb4-43f1-a5aa-0303daa7e5e8\n",
      "Content: Title: Ranbaxy Laboratories\n",
      "Contents: of HIV/AIDS in Africa. In September 2013, further problems were reported, including apparent human hair in a tablet, oil spots on other tablets, toilet facilities without running water, and a failure to instruct employees to wash their hands after using the toilet. Ranbaxy is prohibited from manufacturing FDA-regulated drugs at the Mohali facility until the company complies with United States drug manufacturing requirements. In 2014, The FDA notified Ranbaxy Laboratories, Ltd., that it is prohibited from manufacturing and distributing active pharmaceutical ingredients (APIs) from its facility in Toansa, India, for FDA-regulated drug products. The FDA's inspection of the Toansa facility,\n",
      "------------------------------\n",
      "ID: 3dc799c9-8b22-4694-ae9c-00d7ec809afe\n",
      "Content: Title: CEDU\n",
      "Contents: medications. CEDU Education was sold to Brown Schools while it was at its peak in the market; all the schools were full and everything was going well. Two years into its ownership by Brown Schools, the staff turnover was extremely high, no one with any time or stability in the company was left, and CEDU Education went backwards. IN 2015 CEDU reopened as Moshava California and currently has around 300 \"campers\" that are sent there each year Brown Schools operated 11 boarding schools and educational facilities in California, Idaho, Texas, Vermont, and Florida. Facilities in Austin, Texas and San Marcos,\n",
      "------------------------------\n",
      "ID: 51e74ba0-56da-4f5f-bf28-68cbc5de9172\n",
      "Content: Title: Carter Center\n",
      "Contents: cases of the disease in 20 countries in Africa and Asia. In 2016 there were 25 reported cases in three countries: South Sudan, Chad and Ethiopia. Guinea worm disease is poised to be the first parasitic disease to be eradicated and the only disease to be eradicated without the use of vaccines or drugs. Within affected countries, the Center reinforces existing disease eradication programs by providing technical and financial assistance, as well as logistics and tools, such as donated filter cloth material, larvicide, and medical kits. The International Task Force for Disease Eradication has been based at The Carter Center\n",
      "------------------------------\n"
     ]
    }
   ],
   "source": [
    "# 초기 문서 10개 확인\n",
    "for doc_id, doc in list(merged_store.docstore._dict.items())[:10]:\n",
    "    print(f\"ID: {doc_id}\")\n",
    "    print(f\"Content: {doc.page_content[:1000]}\")  # 앞 1000자만 출력\n",
    "    print(\"-\" * 30)"
   ]
  },
  {
   "cell_type": "code",
   "execution_count": 15,
   "id": "d93558e2-058b-4a74-b5cb-1de9004872d8",
   "metadata": {},
   "outputs": [
    {
     "name": "stdout",
     "output_type": "stream",
     "text": [
      "255\n"
     ]
    }
   ],
   "source": [
    "# 인덱스 정보 확인\n",
    "print(merged_store.index.ntotal)  # 벡터 개수"
   ]
  },
  {
   "cell_type": "code",
   "execution_count": 19,
   "id": "47a0b9bc-6d1d-47d0-a8fc-0605d71e65be",
   "metadata": {
    "scrolled": true
   },
   "outputs": [
    {
     "name": "stdout",
     "output_type": "stream",
     "text": [
      "1 th obj\n",
      "Title: President of the United States - Wikipedia\n",
      "Contents: Head of state and government of the United States\n",
      "\n",
      "The president of the United States (POTUS)[B] is the head of state and head of government of the United States. The president directs the executive branch of the federal government and is the commander-in-chief of the United States Armed Forces.\n",
      "\n",
      "The power of the presidency has grown[12] since the first president, George Washington, took office in 1789.[6] While presidential power has ebbed and flowed over time, the presidency has played an increasing role in American political life since the beginning of the 20th century, carrying over into the 21st century with some expansions during the presidencies of Franklin D. Roosevelt and George W. Bush.[13][14] In modern times, the president is one of the world's most powerful political figures and the leader of the world's only remaining superpower.[15][16][17] As the leader of the nation with the largest economy by nominal GDP, the president possesses significant domestic and international ...\n",
      "**************************************************\n",
      "2 th obj\n",
      "Title: President of the United States - Wikipedia\n",
      "Contents: Head of state and government of the United States\n",
      "\n",
      "The president of the United States (POTUS)[B] is the head of state and head of government of the United States. The president directs the executive branch of the federal government and is the commander-in-chief of the United States Armed Forces.\n",
      "\n",
      "The power of the presidency has grown[12] since the first president, George Washington, took office in 1789.[6] While presidential power has ebbed and flowed over time, the presidency has played an increasing role in American political life since the beginning of the 20th century, carrying over into the 21st century with some expansions during the presidencies of Franklin D. Roosevelt and George W. Bush.[13][14] In modern times, the president is one of the world's most powerful political figures and the leader of the world's only remaining superpower.[15][16][17] As the leader of the nation with the largest economy by nominal GDP, the president possesses significant domestic and international ...\n",
      "**************************************************\n",
      "3 th obj\n",
      "Title: President of the United States - Wikipedia\n",
      "Contents: Head of state and government of the United States\n",
      "\n",
      "The president of the United States (POTUS)[B] is the head of state and head of government of the United States. The president directs the executive branch of the federal government and is the commander-in-chief of the United States Armed Forces.\n",
      "\n",
      "The power of the presidency has grown[12] since the first president, George Washington, took office in 1789.[6] While presidential power has ebbed and flowed over time, the presidency has played an increasing role in American political life since the beginning of the 20th century, carrying over into the 21st century with some expansions during the presidencies of Franklin D. Roosevelt and George W. Bush.[13][14] In modern times, the president is one of the world's most powerful political figures and the leader of the world's only remaining superpower.[15][16][17] As the leader of the nation with the largest economy by nominal GDP, the president possesses significant domestic and international ...\n",
      "**************************************************\n",
      "4 th obj\n",
      "Title: President of the United States - Wikipedia\n",
      "Contents: Head of state and government of the United States\n",
      "\n",
      "The president of the United States (POTUS)[B] is the head of state and head of government of the United States. The president directs the executive branch of the federal government and is the commander-in-chief of the United States Armed Forces.\n",
      "\n",
      "The power of the presidency has grown[12] since the first president, George Washington, took office in 1789.[6] While presidential power has ebbed and flowed over time, the presidency has played an increasing role in American political life since the beginning of the 20th century, carrying over into the 21st century with some expansions during the presidencies of Franklin D. Roosevelt and George W. Bush.[13][14] In modern times, the president is one of the world's most powerful political figures and the leader of the world's only remaining superpower.[15][16][17] As the leader of the nation with the largest economy by nominal GDP, the president possesses significant domestic and international ...\n",
      "**************************************************\n",
      "5 th obj\n",
      "Title: President of the United States - Wikipedia\n",
      "Contents: Head of state and government of the United States\n",
      "\n",
      "The president of the United States (POTUS)[B] is the head of state and head of government of the United States. The president directs the executive branch of the federal government and is the commander-in-chief of the United States Armed Forces.\n",
      "\n",
      "The power of the presidency has grown[12] since the first president, George Washington, took office in 1789.[6] While presidential power has ebbed and flowed over time, the presidency has played an increasing role in American political life since the beginning of the 20th century, carrying over into the 21st century with some expansions during the presidencies of Franklin D. Roosevelt and George W. Bush.[13][14] In modern times, the president is one of the world's most powerful political figures and the leader of the world's only remaining superpower.[15][16][17] As the leader of the nation with the largest economy by nominal GDP, the president possesses significant domestic and international ...\n",
      "**************************************************\n",
      "6 th obj\n",
      "Title: President of the United States - Wikipedia\n",
      "Contents: Head of state and government of the United States\n",
      "\n",
      "The president of the United States (POTUS)[B] is the head of state and head of government of the United States. The president directs the executive branch of the federal government and is the commander-in-chief of the United States Armed Forces.\n",
      "\n",
      "The power of the presidency has grown[12] since the first president, George Washington, took office in 1789.[6] While presidential power has ebbed and flowed over time, the presidency has played an increasing role in American political life since the beginning of the 20th century, carrying over into the 21st century with some expansions during the presidencies of Franklin D. Roosevelt and George W. Bush.[13][14] In modern times, the president is one of the world's most powerful political figures and the leader of the world's only remaining superpower.[15][16][17] As the leader of the nation with the largest economy by nominal GDP, the president possesses significant domestic and international ...\n",
      "**************************************************\n",
      "7 th obj\n",
      "Title: President of the United States - Wikipedia\n",
      "Contents: Head of state and government of the United States\n",
      "\n",
      "The president of the United States (POTUS)[B] is the head of state and head of government of the United States. The president directs the executive branch of the federal government and is the commander-in-chief of the United States Armed Forces.\n",
      "\n",
      "The power of the presidency has grown[12] since the first president, George Washington, took office in 1789.[6] While presidential power has ebbed and flowed over time, the presidency has played an increasing role in American political life since the beginning of the 20th century, carrying over into the 21st century with some expansions during the presidencies of Franklin D. Roosevelt and George W. Bush.[13][14] In modern times, the president is one of the world's most powerful political figures and the leader of the world's only remaining superpower.[15][16][17] As the leader of the nation with the largest economy by nominal GDP, the president possesses significant domestic and international ...\n",
      "**************************************************\n",
      "8 th obj\n",
      "Title: President of the United States - Wikipedia\n",
      "Contents: Head of state and government of the United States\n",
      "\n",
      "The president of the United States (POTUS)[B] is the head of state and head of government of the United States. The president directs the executive branch of the federal government and is the commander-in-chief of the United States Armed Forces.\n",
      "\n",
      "The power of the presidency has grown[12] since the first president, George Washington, took office in 1789.[6] While presidential power has ebbed and flowed over time, the presidency has played an increasing role in American political life since the beginning of the 20th century, carrying over into the 21st century with some expansions during the presidencies of Franklin D. Roosevelt and George W. Bush.[13][14] In modern times, the president is one of the world's most powerful political figures and the leader of the world's only remaining superpower.[15][16][17] As the leader of the nation with the largest economy by nominal GDP, the president possesses significant domestic and international ...\n",
      "**************************************************\n",
      "9 th obj\n",
      "Title: President of the United States\n",
      "Contents: President of the United States The President of the United States (POTUS) is the head of state and head of government of the United States of America. The president directs the executive branch of the federal government and is the commander-in-chief of the United States Armed Forces. In contemporary times, the president is looked upon as one of the world's most powerful political figures and as the leader of the only remaining global superpower. The role includes responsibility for the world's most expensive military, which has the second largest nuclear arsenal. The president also leads the nation with the largest\n",
      "**************************************************\n",
      "10 th obj\n",
      "Title: President of the United States\n",
      "Contents: President of the United States The President of the United States (POTUS) is the head of state and head of government of the United States of America. The president directs the executive branch of the federal government and is the commander-in-chief of the United States Armed Forces. In contemporary times, the president is looked upon as one of the world's most powerful political figures and as the leader of the only remaining global superpower. The role includes responsibility for the world's most expensive military, which has the second largest nuclear arsenal. The president also leads the nation with the largest\n",
      "**************************************************\n"
     ]
    }
   ],
   "source": [
    "# 주어진 쿼리와 유사한 문장 검색\n",
    "query = \"Who is the president of the US?\"\n",
    "\n",
    "results = merged_store.similarity_search(query, k=10)\n",
    "for c, r in enumerate(results):\n",
    "    print(c+1, 'th obj')\n",
    "    print(r.page_content)\n",
    "    print('*'*50)"
   ]
  },
  {
   "cell_type": "code",
   "execution_count": null,
   "id": "820a7bbf-2455-4a24-a478-6b334e0d8f02",
   "metadata": {},
   "outputs": [],
   "source": [
    "# 여러번 넣어서 입력이 복잡해졌나. 그러면 중복 내용을 거르는 부분이 필요함. ()\n"
   ]
  },
  {
   "cell_type": "code",
   "execution_count": 21,
   "id": "387f75d0-38d5-4762-9574-ee988042c01f",
   "metadata": {},
   "outputs": [
    {
     "name": "stdout",
     "output_type": "stream",
     "text": [
      "Index file found at /mnt/nvme02/User/utopiamath/.cache/wiki_dpr/psgs_w100.tsv.pkl\n"
     ]
    },
    {
     "data": {
      "application/vnd.jupyter.widget-view+json": {
       "model_id": "498021dac4194ca2a0d1897839fd5c36",
       "version_major": 2,
       "version_minor": 0
      },
      "text/plain": [
       "Loading dataset from disk:   0%|          | 0/157 [00:00<?, ?it/s]"
      ]
     },
     "metadata": {},
     "output_type": "display_data"
    },
    {
     "name": "stdout",
     "output_type": "stream",
     "text": [
      "pkl 파일이 성공적으로 로드되었습니다.\n",
      "MODEL_NAME:: /mnt/nvme01/huggingface/models/Facebook/rag-sequence-nq\n"
     ]
    },
    {
     "name": "stderr",
     "output_type": "stream",
     "text": [
      "The tokenizer class you load from this checkpoint is not the same type as the class this function is called from. It may result in unexpected tokenization. \n",
      "The tokenizer class you load from this checkpoint is 'RagTokenizer'. \n",
      "The class this function is called from is 'DPRQuestionEncoderTokenizer'.\n",
      "The tokenizer class you load from this checkpoint is not the same type as the class this function is called from. It may result in unexpected tokenization. \n",
      "The tokenizer class you load from this checkpoint is 'RagTokenizer'. \n",
      "The class this function is called from is 'DPRQuestionEncoderTokenizerFast'.\n",
      "The tokenizer class you load from this checkpoint is not the same type as the class this function is called from. It may result in unexpected tokenization. \n",
      "The tokenizer class you load from this checkpoint is 'RagTokenizer'. \n",
      "The class this function is called from is 'BartTokenizer'.\n",
      "The tokenizer class you load from this checkpoint is not the same type as the class this function is called from. It may result in unexpected tokenization. \n",
      "The tokenizer class you load from this checkpoint is 'RagTokenizer'. \n",
      "The class this function is called from is 'BartTokenizerFast'.\n"
     ]
    },
    {
     "name": "stdout",
     "output_type": "stream",
     "text": [
      "RagRetriever loaded\n"
     ]
    },
    {
     "name": "stderr",
     "output_type": "stream",
     "text": [
      "Some weights of the model checkpoint at /mnt/nvme01/huggingface/models/Facebook/rag-sequence-nq were not used when initializing RagSequenceForGeneration: ['rag.question_encoder.question_encoder.bert_model.pooler.dense.bias', 'rag.question_encoder.question_encoder.bert_model.pooler.dense.weight']\n",
      "- This IS expected if you are initializing RagSequenceForGeneration from the checkpoint of a model trained on another task or with another architecture (e.g. initializing a BertForSequenceClassification model from a BertForPreTraining model).\n",
      "- This IS NOT expected if you are initializing RagSequenceForGeneration from the checkpoint of a model that you expect to be exactly identical (initializing a BertForSequenceClassification model from a BertForSequenceClassification model).\n",
      "The tokenizer class you load from this checkpoint is not the same type as the class this function is called from. It may result in unexpected tokenization. \n",
      "The tokenizer class you load from this checkpoint is 'RagTokenizer'. \n",
      "The class this function is called from is 'DPRQuestionEncoderTokenizer'.\n",
      "The tokenizer class you load from this checkpoint is not the same type as the class this function is called from. It may result in unexpected tokenization. \n",
      "The tokenizer class you load from this checkpoint is 'RagTokenizer'. \n",
      "The class this function is called from is 'DPRQuestionEncoderTokenizerFast'.\n",
      "The tokenizer class you load from this checkpoint is not the same type as the class this function is called from. It may result in unexpected tokenization. \n",
      "The tokenizer class you load from this checkpoint is 'RagTokenizer'. \n",
      "The class this function is called from is 'BartTokenizer'.\n",
      "The tokenizer class you load from this checkpoint is not the same type as the class this function is called from. It may result in unexpected tokenization. \n",
      "The tokenizer class you load from this checkpoint is 'RagTokenizer'. \n",
      "The class this function is called from is 'BartTokenizerFast'.\n"
     ]
    }
   ],
   "source": [
    "# retrieval.dpr에서 결과 가져오는 방법 분석\n",
    "\n",
    "from retrieval.dpr import run_dpr_question, load_model\n",
    "\n",
    "local_model_name = \"Facebook/rag-sequence-nq\"\n",
    "retriever, model, tokenizer = load_model(local_model_name)\n",
    "search_results = run_dpr_question(query, retriever, model, tokenizer)"
   ]
  }
 ],
 "metadata": {
  "kernelspec": {
   "display_name": "Python 3 (ipykernel)",
   "language": "python",
   "name": "python3"
  },
  "language_info": {
   "codemirror_mode": {
    "name": "ipython",
    "version": 3
   },
   "file_extension": ".py",
   "mimetype": "text/x-python",
   "name": "python",
   "nbconvert_exporter": "python",
   "pygments_lexer": "ipython3",
   "version": "3.11.7"
  }
 },
 "nbformat": 4,
 "nbformat_minor": 5
}
